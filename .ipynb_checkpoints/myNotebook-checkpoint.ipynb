{
 "cells": [
  {
   "cell_type": "code",
   "execution_count": 5,
   "id": "7f0d4c7a-d42b-4217-be6f-2c41e1ee5993",
   "metadata": {},
   "outputs": [],
   "source": [
    "import os\n",
    "import numpy as np\n",
    "import pandas as pd\n",
    "import matplotlib.pyplot as plt\n",
    "import shutil\n",
    "import plotly.graph_objects as go\n",
    "from sklearn.metrics import confusion_matrix, classification_report\n",
    "\n",
    "from tensorflow.keras.preprocessing import image\n",
    "from tensorflow.keras.preprocessing.image import ImageDataGenerator\n",
    "from tensorflow.keras.models import Sequential\n",
    "from tensorflow.keras import layers\n",
    "from tensorflow.keras import optimizers\n",
    "from tensorflow.keras.callbacks import TensorBoard\n",
    "\n",
    "np.set_printoptions(precision=6, suppress=True)\n"
   ]
  },
  {
   "cell_type": "code",
   "execution_count": 13,
   "id": "49078121-928f-48eb-b3a5-de9340206be2",
   "metadata": {},
   "outputs": [],
   "source": [
    "base_dir = '../planes'"
   ]
  },
  {
   "cell_type": "code",
   "execution_count": null,
   "id": "cfeebaeb-a59d-42d6-a1ba-23b71e4cc85b",
   "metadata": {},
   "outputs": [],
   "source": [
    "raw_no_of_files = {}"
   ]
  },
  {
   "cell_type": "code",
   "execution_count": null,
   "id": "5bb232df-6ab0-4811-a8a9-32520774364c",
   "metadata": {},
   "outputs": [],
   "source": []
  },
  {
   "cell_type": "code",
   "execution_count": null,
   "id": "81fe976d-d81d-4141-9ea2-75f6670c03f3",
   "metadata": {},
   "outputs": [],
   "source": []
  },
  {
   "cell_type": "code",
   "execution_count": null,
   "id": "79c052ea-83c6-4e5c-bba2-26dfa11ff955",
   "metadata": {},
   "outputs": [],
   "source": []
  }
 ],
 "metadata": {
  "kernelspec": {
   "display_name": "Python 3 (ipykernel)",
   "language": "python",
   "name": "python3"
  },
  "language_info": {
   "codemirror_mode": {
    "name": "ipython",
    "version": 3
   },
   "file_extension": ".py",
   "mimetype": "text/x-python",
   "name": "python",
   "nbconvert_exporter": "python",
   "pygments_lexer": "ipython3",
   "version": "3.10.12"
  }
 },
 "nbformat": 4,
 "nbformat_minor": 5
}
