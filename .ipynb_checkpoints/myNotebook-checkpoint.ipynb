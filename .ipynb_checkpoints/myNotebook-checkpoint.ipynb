{
 "cells": [
  {
   "cell_type": "code",
   "execution_count": 15,
   "id": "7f0d4c7a-d42b-4217-be6f-2c41e1ee5993",
   "metadata": {},
   "outputs": [],
   "source": [
    "import os\n",
    "import numpy as np\n",
    "import pandas as pd\n",
    "import matplotlib.pyplot as plt\n",
    "import shutil\n",
    "import plotly.graph_objects as go\n",
    "from sklearn.metrics import confusion_matrix, classification_report\n",
    "\n",
    "from tensorflow.keras.preprocessing import image\n",
    "from tensorflow.keras.preprocessing.image import ImageDataGenerator\n",
    "from tensorflow.keras.models import Sequential\n",
    "from tensorflow.keras import layers\n",
    "from tensorflow.keras import optimizers\n",
    "from tensorflow.keras.callbacks import TensorBoard\n",
    "\n",
    "np.set_printoptions(precision=6, suppress=True)\n"
   ]
  },
  {
   "cell_type": "code",
   "execution_count": 18,
   "id": "49078121-928f-48eb-b3a5-de9340206be2",
   "metadata": {},
   "outputs": [
    {
     "data": {
      "text/plain": [
       "dict_items([('drone', 1332), ('fighter-jet', 1867), ('helicopter', 1387), ('missile', 1334), ('passenger-plane', 1424), ('rocket', 1186)])"
      ]
     },
     "execution_count": 18,
     "metadata": {},
     "output_type": "execute_result"
    }
   ],
   "source": [
    "base_dir = '../planes'\n",
    "raw_no_of_files = {}\n",
    "classes = ['drone','fighter-jet','helicopter','missile','passenger-plane','rocket']\n",
    "for dir in classes:\n",
    "    raw_no_of_files[dir] = len(os.listdir(os.path.join(base_dir, dir)))\n",
    "\n",
    "raw_no_of_files.items()"
   ]
  },
  {
   "cell_type": "code",
   "execution_count": null,
   "id": "cfeebaeb-a59d-42d6-a1ba-23b71e4cc85b",
   "metadata": {},
   "outputs": [],
   "source": [
    "data_dir = '../images'\n",
    "if not os.path.exists(data_dir):\n",
    "    os.mkdir(data_dir)\n",
    "\n",
    "train_dir = os.path.join(data_dir, 'train')\n",
    "valid_dir = os.path.join(data_dir, 'valid')\n",
    "test_dir = os.path.join(data_dir), 'test')\n",
    "\n",
    "train_drone_dir = os.path.join(train_dir, 'passenger')\n",
    "train_passenger_dir = os.path.join(train_dir,'passenger')\n",
    "\n",
    "valid_drone_dir = os.path.join(valid_dir, 'drone')\n",
    "valid_passenger_dir = os.path(valid_dir, 'passenger')\n",
    "\n",
    "test_drone_dir = os.path.join(test_dir, 'drone')\n",
    "test_passenger_dir = os.path(test_dir, 'passenger')\n",
    "\n",
    "for directory in (train_dir, valid_dir, test_dir):\n",
    "    if not os.path.exists(directory):\n",
    "        os.mkdir(directory)\n",
    "\n",
    "dirs = [train_drone_dir, train_passenger_dir, valid_drone_dir, valid_passenger_dir, test_drone_dir]\n",
    "\n",
    "for dir in dirs:\n",
    "    if not os.path.exists(dir):\n",
    "        os.mkdir(dir)\n"
   ]
  },
  {
   "cell_type": "code",
   "execution_count": null,
   "id": "5bb232df-6ab0-4811-a8a9-32520774364c",
   "metadata": {},
   "outputs": [],
   "source": []
  },
  {
   "cell_type": "code",
   "execution_count": null,
   "id": "1ab98034-01e9-4dcf-9e71-989bb1229cca",
   "metadata": {},
   "outputs": [],
   "source": []
  },
  {
   "cell_type": "code",
   "execution_count": null,
   "id": "81fe976d-d81d-4141-9ea2-75f6670c03f3",
   "metadata": {},
   "outputs": [],
   "source": []
  },
  {
   "cell_type": "code",
   "execution_count": null,
   "id": "79c052ea-83c6-4e5c-bba2-26dfa11ff955",
   "metadata": {},
   "outputs": [],
   "source": []
  }
 ],
 "metadata": {
  "kernelspec": {
   "display_name": "Python 3 (ipykernel)",
   "language": "python",
   "name": "python3"
  },
  "language_info": {
   "codemirror_mode": {
    "name": "ipython",
    "version": 3
   },
   "file_extension": ".py",
   "mimetype": "text/x-python",
   "name": "python",
   "nbconvert_exporter": "python",
   "pygments_lexer": "ipython3",
   "version": "3.10.12"
  }
 },
 "nbformat": 4,
 "nbformat_minor": 5
}
